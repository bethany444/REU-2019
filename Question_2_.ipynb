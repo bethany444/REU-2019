{
  "nbformat": 4,
  "nbformat_minor": 0,
  "metadata": {
    "colab": {
      "name": "Question 2 .ipynb",
      "version": "0.3.2",
      "provenance": [],
      "collapsed_sections": [],
      "include_colab_link": true
    },
    "kernelspec": {
      "name": "python3",
      "display_name": "Python 3"
    }
  },
  "cells": [
    {
      "cell_type": "markdown",
      "metadata": {
        "id": "view-in-github",
        "colab_type": "text"
      },
      "source": [
        "<a href=\"https://colab.research.google.com/github/bethany444/REU-2019/blob/master/Question_2_.ipynb\" target=\"_parent\"><img src=\"https://colab.research.google.com/assets/colab-badge.svg\" alt=\"Open In Colab\"/></a>"
      ]
    },
    {
      "cell_type": "markdown",
      "metadata": {
        "id": "A6ga3OZXip1O",
        "colab_type": "text"
      },
      "source": [
        "Homework - Question 2\n",
        "\n",
        "6/3/19\n",
        "Bethany Rothrock"
      ]
    },
    {
      "cell_type": "code",
      "metadata": {
        "id": "OiqLev8ri0Ru",
        "colab_type": "code",
        "outputId": "00cdc295-7915-409c-e924-66128bc83ce4",
        "colab": {
          "base_uri": "https://localhost:8080/",
          "height": 286
        }
      },
      "source": [
        "\n",
        "N=10000\n",
        "counter=0\n",
        "a=[3,5,7]\n",
        "\n",
        "for x in range(N):\n",
        "  OK =False\n",
        "  for y in a:\n",
        "    if x%y == 0:\n",
        "      OK =True\n",
        "    if (OK==True):\n",
        "      counter+=1\n",
        "      break\n",
        "print(counter)\n",
        "\n",
        "import matplotlib.pyplot as plt\n",
        "X = range(10000)\n",
        "Y = [True for x in X]\n",
        "plt.plot(X,Y)\n",
        "plt.show()\n"
      ],
      "execution_count": 0,
      "outputs": [
        {
          "output_type": "stream",
          "text": [
            "5429\n"
          ],
          "name": "stdout"
        },
        {
          "output_type": "display_data",
          "data": {
            "image/png": "[encoded data removed]",
            "text/plain": [
              "<Figure size 432x288 with 1 Axes>"
            ]
          },
          "metadata": {
            "tags": []
          }
        }
      ]
    },
    {
      "cell_type": "code",
      "metadata": {
        "id": "GsnhnNDdnHMl",
        "colab_type": "code",
        "colab": {}
      },
      "source": [
        ""
      ],
      "execution_count": 0,
      "outputs": []
    }
  ]
}