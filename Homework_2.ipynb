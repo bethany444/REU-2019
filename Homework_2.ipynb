{
  "nbformat": 4,
  "nbformat_minor": 0,
  "metadata": {
    "colab": {
      "name": "Homework 2.ipynb",
      "version": "0.3.2",
      "provenance": [],
      "collapsed_sections": [],
      "include_colab_link": true
    },
    "kernelspec": {
      "name": "python3",
      "display_name": "Python 3"
    }
  },
  "cells": [
    {
      "cell_type": "markdown",
      "metadata": {
        "id": "view-in-github",
        "colab_type": "text"
      },
      "source": [
        "<a href=\"https://colab.research.google.com/github/bethany444/REU-2019/blob/master/Homework_2.ipynb\" target=\"_parent\"><img src=\"https://colab.research.google.com/assets/colab-badge.svg\" alt=\"Open In Colab\"/></a>"
      ]
    },
    {
      "cell_type": "markdown",
      "metadata": {
        "id": "sG3DdtDIkWhB",
        "colab_type": "text"
      },
      "source": [
        "Homework 2\n",
        "\n",
        "Bethany Rothrock\n",
        "\n",
        "6/4/19"
      ]
    },
    {
      "cell_type": "markdown",
      "metadata": {
        "id": "i_2KlloZkwXh",
        "colab_type": "text"
      },
      "source": [
        "1 Excercise 7: Numpy Practice"
      ]
    },
    {
      "cell_type": "code",
      "metadata": {
        "id": "0pwln47NkVmy",
        "colab_type": "code",
        "outputId": "f0960951-98fe-42c2-d489-4581f9fcbbdf",
        "colab": {
          "base_uri": "https://localhost:8080/",
          "height": 51
        }
      },
      "source": [
        "\n",
        "x = 4\n",
        "a = x**2\n",
        "b = x**3\n",
        "print(a)\n",
        "print(b)\n"
      ],
      "execution_count": 0,
      "outputs": [
        {
          "output_type": "stream",
          "text": [
            "16\n",
            "64\n"
          ],
          "name": "stdout"
        }
      ]
    },
    {
      "cell_type": "code",
      "metadata": {
        "id": "T9sWdkGtlcO3",
        "colab_type": "code",
        "outputId": "e41343f1-d5c0-4355-e373-f0c1281ce609",
        "colab": {
          "base_uri": "https://localhost:8080/",
          "height": 51
        }
      },
      "source": [
        "import math \n",
        "theta = 65\n",
        "print(math.sin(theta))\n",
        "print(math.cos(theta))\n"
      ],
      "execution_count": 0,
      "outputs": [
        {
          "output_type": "stream",
          "text": [
            "0.8268286794901034\n",
            "-0.562453851238172\n"
          ],
          "name": "stdout"
        }
      ]
    },
    {
      "cell_type": "markdown",
      "metadata": {
        "id": "RsJXmnHso2ge",
        "colab_type": "text"
      },
      "source": [
        "the answers are in radians"
      ]
    },
    {
      "cell_type": "code",
      "metadata": {
        "id": "WusqOO2pmNcr",
        "colab_type": "code",
        "outputId": "7a8b164e-554b-4135-bf23-8eb238331581",
        "colab": {
          "base_uri": "https://localhost:8080/",
          "height": 303
        }
      },
      "source": [
        "import numpy as np\n",
        "import matplotlib.pyplot as plt\n",
        "\n",
        "meshPoints = np.linspace(-1, 1, num=500)\n",
        "print(meshPoints[53])\n",
        "\n",
        "plt.plot(meshPoints,np.sin(2*math.pi*meshPoints))"
      ],
      "execution_count": 0,
      "outputs": [
        {
          "output_type": "stream",
          "text": [
            "-0.7875751503006012\n"
          ],
          "name": "stdout"
        },
        {
          "output_type": "execute_result",
          "data": {
            "text/plain": [
              "[<matplotlib.lines.Line2D at 0x7f39bc90c048>]"
            ]
          },
          "metadata": {
            "tags": []
          },
          "execution_count": 14
        },
        {
          "output_type": "display_data",
          "data": {
            "image/png": "[encoded data removed]",
            "text/plain": [
              "<Figure size 432x288 with 1 Axes>"
            ]
          },
          "metadata": {
            "tags": []
          }
        }
      ]
    },
    {
      "cell_type": "markdown",
      "metadata": {
        "id": "JszrT56hqw6W",
        "colab_type": "text"
      },
      "source": [
        "2- Vecor and Matrix Operations: Excercise 8"
      ]
    },
    {
      "cell_type": "code",
      "metadata": {
        "id": "g7uKVLNZq2fY",
        "colab_type": "code",
        "outputId": "c3710806-03ac-4de9-c66d-6051e5ccb0b7",
        "colab": {
          "base_uri": "https://localhost:8080/",
          "height": 221
        }
      },
      "source": [
        "import numpy as np\n",
        "import scipy.linalg as la\n",
        "\n",
        "vec1 = np.array([-1, 4, -9])\n",
        "mat1 = np.array([[1, 3, 5,], [7, -9, 2], [4, 6, 5]])\n",
        "\n",
        "vec2 = (np.pi/4) * vec1\n",
        "\n",
        "vec2 = np.cos(vec2)\n",
        "print(vec2)\n",
        "\n",
        "\n",
        "vec3 = vec1 + 2*vec2\n",
        "print(vec3)\n",
        "\n",
        "la.norm(vec3)\n",
        "\n",
        "vec4 = mat1 * vec3\n",
        "print(vec4)\n",
        "\n",
        "\n",
        "print (np.transpose(mat1))\n",
        "\n",
        "print(la.det(mat1))\n",
        "\n",
        "print(np.trace(mat1))\n",
        "\n",
        "print(min(vec1))\n",
        "\n",
        "#10 \n",
        "\n",
        "print(np.min(mat1))\n",
        "\n"
      ],
      "execution_count": 0,
      "outputs": [
        {
          "output_type": "stream",
          "text": [
            "[ 0.70710678 -1.          0.70710678]\n",
            "[ 0.41421356  2.         -7.58578644]\n",
            "[[  0.41421356   6.         -37.92893219]\n",
            " [  2.89949494 -18.         -15.17157288]\n",
            " [  1.65685425  12.         -37.92893219]]\n",
            "[[ 1  7  4]\n",
            " [ 3 -9  6]\n",
            " [ 5  2  5]]\n",
            "252.0\n",
            "-3\n",
            "-9\n",
            "-9\n"
          ],
          "name": "stdout"
        }
      ]
    },
    {
      "cell_type": "code",
      "metadata": {
        "id": "nhX_pbLvrX7I",
        "colab_type": "code",
        "outputId": "768d1b74-0e0d-48aa-ea05-bf3f53aa647e",
        "colab": {
          "base_uri": "https://localhost:8080/",
          "height": 404
        }
      },
      "source": [
        "import numpy as np\n",
        "\n",
        "A = np.array([[17, 24, 1, 8, 15], \n",
        "              [23, 5, 7, 14, 16],\n",
        "              [4, 6, 13, 20, 22],\n",
        "              [10, 12, 19, 21, 3],\n",
        "              [11, 18, 25, 2, 9]])\n",
        "print(A.sum(axis=1))\n",
        "\n",
        "Col = (A[:,0])\n",
        "print(sum(Col))\n",
        "\n",
        "\n",
        "b = np.diag(A)\n",
        "print(sum(b))\n",
        "\n",
        "c = np.fliplr(b)\n",
        "print(sum(c))  #check later "
      ],
      "execution_count": 0,
      "outputs": [
        {
          "output_type": "stream",
          "text": [
            "[65 65 65 65 65]\n",
            "65\n",
            "65\n"
          ],
          "name": "stdout"
        },
        {
          "output_type": "error",
          "ename": "ValueError",
          "evalue": "ignored",
          "traceback": [
            "\u001b[0;31m---------------------------------------------------------------------------\u001b[0m",
            "\u001b[0;31mValueError\u001b[0m                                Traceback (most recent call last)",
            "\u001b[0;32m<ipython-input-30-b4046a86176a>\u001b[0m in \u001b[0;36m<module>\u001b[0;34m()\u001b[0m\n\u001b[1;32m     15\u001b[0m \u001b[0mprint\u001b[0m\u001b[0;34m(\u001b[0m\u001b[0msum\u001b[0m\u001b[0;34m(\u001b[0m\u001b[0mb\u001b[0m\u001b[0;34m)\u001b[0m\u001b[0;34m)\u001b[0m\u001b[0;34m\u001b[0m\u001b[0;34m\u001b[0m\u001b[0m\n\u001b[1;32m     16\u001b[0m \u001b[0;34m\u001b[0m\u001b[0m\n\u001b[0;32m---> 17\u001b[0;31m \u001b[0mc\u001b[0m \u001b[0;34m=\u001b[0m \u001b[0mnp\u001b[0m\u001b[0;34m.\u001b[0m\u001b[0mfliplr\u001b[0m\u001b[0;34m(\u001b[0m\u001b[0mb\u001b[0m\u001b[0;34m)\u001b[0m\u001b[0;34m\u001b[0m\u001b[0;34m\u001b[0m\u001b[0m\n\u001b[0m\u001b[1;32m     18\u001b[0m \u001b[0mprint\u001b[0m\u001b[0;34m(\u001b[0m\u001b[0msum\u001b[0m\u001b[0;34m(\u001b[0m\u001b[0mc\u001b[0m\u001b[0;34m)\u001b[0m\u001b[0;34m)\u001b[0m  \u001b[0;31m#check later\u001b[0m\u001b[0;34m\u001b[0m\u001b[0;34m\u001b[0m\u001b[0m\n",
            "\u001b[0;32m/usr/local/lib/python3.6/dist-packages/numpy/lib/twodim_base.py\u001b[0m in \u001b[0;36mfliplr\u001b[0;34m(m)\u001b[0m\n\u001b[1;32m     93\u001b[0m     \u001b[0mm\u001b[0m \u001b[0;34m=\u001b[0m \u001b[0masanyarray\u001b[0m\u001b[0;34m(\u001b[0m\u001b[0mm\u001b[0m\u001b[0;34m)\u001b[0m\u001b[0;34m\u001b[0m\u001b[0;34m\u001b[0m\u001b[0m\n\u001b[1;32m     94\u001b[0m     \u001b[0;32mif\u001b[0m \u001b[0mm\u001b[0m\u001b[0;34m.\u001b[0m\u001b[0mndim\u001b[0m \u001b[0;34m<\u001b[0m \u001b[0;36m2\u001b[0m\u001b[0;34m:\u001b[0m\u001b[0;34m\u001b[0m\u001b[0;34m\u001b[0m\u001b[0m\n\u001b[0;32m---> 95\u001b[0;31m         \u001b[0;32mraise\u001b[0m \u001b[0mValueError\u001b[0m\u001b[0;34m(\u001b[0m\u001b[0;34m\"Input must be >= 2-d.\"\u001b[0m\u001b[0;34m)\u001b[0m\u001b[0;34m\u001b[0m\u001b[0;34m\u001b[0m\u001b[0m\n\u001b[0m\u001b[1;32m     96\u001b[0m     \u001b[0;32mreturn\u001b[0m \u001b[0mm\u001b[0m\u001b[0;34m[\u001b[0m\u001b[0;34m:\u001b[0m\u001b[0;34m,\u001b[0m \u001b[0;34m:\u001b[0m\u001b[0;34m:\u001b[0m\u001b[0;34m-\u001b[0m\u001b[0;36m1\u001b[0m\u001b[0;34m]\u001b[0m\u001b[0;34m\u001b[0m\u001b[0;34m\u001b[0m\u001b[0m\n\u001b[1;32m     97\u001b[0m \u001b[0;34m\u001b[0m\u001b[0m\n",
            "\u001b[0;31mValueError\u001b[0m: Input must be >= 2-d."
          ]
        }
      ]
    },
    {
      "cell_type": "code",
      "metadata": {
        "id": "U6QZZeI1_WF9",
        "colab_type": "code",
        "colab": {}
      },
      "source": [
        "M = np.random.rand"
      ],
      "execution_count": 0,
      "outputs": []
    },
    {
      "cell_type": "code",
      "metadata": {
        "id": "p8aOCJQhDczL",
        "colab_type": "code",
        "colab": {}
      },
      "source": [
        ""
      ],
      "execution_count": 0,
      "outputs": []
    }
  ]
}